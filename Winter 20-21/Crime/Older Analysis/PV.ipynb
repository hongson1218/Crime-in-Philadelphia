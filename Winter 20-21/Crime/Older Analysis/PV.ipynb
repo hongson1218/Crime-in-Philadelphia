{
 "cells": [
  {
   "cell_type": "code",
   "execution_count": 1,
   "metadata": {},
   "outputs": [],
   "source": [
    "import pandas as pd"
   ]
  },
  {
   "cell_type": "code",
   "execution_count": 2,
   "metadata": {},
   "outputs": [],
   "source": [
    "pv = pd.read_csv('Parking-Violation.csv')"
   ]
  },
  {
   "cell_type": "code",
   "execution_count": 3,
   "metadata": {},
   "outputs": [],
   "source": [
    "pv = pv[[\"zip_code\", \"lat\", \"lon\"]]"
   ]
  },
  {
   "cell_type": "code",
   "execution_count": 4,
   "metadata": {},
   "outputs": [
    {
     "data": {
      "text/plain": [
       "5760749"
      ]
     },
     "execution_count": 4,
     "metadata": {},
     "output_type": "execute_result"
    }
   ],
   "source": [
    "len(pv)"
   ]
  },
  {
   "cell_type": "code",
   "execution_count": 5,
   "metadata": {},
   "outputs": [],
   "source": [
    "for p in pv:\n",
    "    value = pv[p].isnull().sum()\n",
    "    if (value>0):\n",
    "        print(\"There are\", value, \" missing values in column\",p)"
   ]
  },
  {
   "cell_type": "code",
   "execution_count": 8,
   "metadata": {},
   "outputs": [
    {
     "data": {
      "text/plain": [
       "19103.0    693172\n",
       "19107.0    613688\n",
       "19104.0    549479\n",
       "19147.0    538896\n",
       "19106.0    394895\n",
       "19130.0    278760\n",
       "19146.0    249102\n",
       "19102.0    198584\n",
       "19123.0    188326\n",
       "19148.0    175900\n",
       "19139.0    152499\n",
       "19145.0    142239\n",
       "19140.0    133935\n",
       "19141.0    132531\n",
       "19127.0    130624\n",
       "19124.0    120907\n",
       "19121.0    101955\n",
       "19144.0    100531\n",
       "19149.0     83272\n",
       "19120.0     73591\n",
       "19142.0     70419\n",
       "19134.0     68878\n",
       "19118.0     60924\n",
       "19143.0     58833\n",
       "19111.0     54999\n",
       "19128.0     40233\n",
       "19136.0     38944\n",
       "19132.0     38198\n",
       "19125.0     37898\n",
       "19133.0     34142\n",
       "19135.0     33627\n",
       "19129.0     31672\n",
       "19122.0     28949\n",
       "19131.0     24378\n",
       "19119.0     21189\n",
       "19151.0     16230\n",
       "19152.0     15421\n",
       "19138.0      7174\n",
       "19150.0      5473\n",
       "19126.0      3933\n",
       "19110.0      3822\n",
       "19153.0      3350\n",
       "19115.0      2328\n",
       "19114.0      1910\n",
       "19116.0      1683\n",
       "19137.0      1570\n",
       "19109.0       704\n",
       "19154.0       666\n",
       "19108.0       197\n",
       "19112.0       114\n",
       "19192.0         5\n",
       "Name: zip_code, dtype: int64"
      ]
     },
     "execution_count": 8,
     "metadata": {},
     "output_type": "execute_result"
    }
   ],
   "source": [
    "pv.zip_code.value_counts()"
   ]
  },
  {
   "cell_type": "code",
   "execution_count": 9,
   "metadata": {},
   "outputs": [
    {
     "data": {
      "text/plain": [
       "51"
      ]
     },
     "execution_count": 9,
     "metadata": {},
     "output_type": "execute_result"
    }
   ],
   "source": [
    "len(pv.zip_code.value_counts())"
   ]
  },
  {
   "cell_type": "code",
   "execution_count": null,
   "metadata": {},
   "outputs": [],
   "source": []
  }
 ],
 "metadata": {
  "kernelspec": {
   "display_name": "Python 3",
   "language": "python",
   "name": "python3"
  },
  "language_info": {
   "codemirror_mode": {
    "name": "ipython",
    "version": 3
   },
   "file_extension": ".py",
   "mimetype": "text/x-python",
   "name": "python",
   "nbconvert_exporter": "python",
   "pygments_lexer": "ipython3",
   "version": "3.8.3"
  }
 },
 "nbformat": 4,
 "nbformat_minor": 4
}
