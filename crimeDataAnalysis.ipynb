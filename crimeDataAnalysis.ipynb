{
 "cells": [
  {
   "cell_type": "code",
   "execution_count": 47,
   "metadata": {},
   "outputs": [],
   "source": [
    "import pandas as pd\n",
    "import numpy as np\n",
    "from matplotlib import pyplot as plt\n",
    "import seaborn as sns\n",
    "import geopandas as gpd\n",
    "from shapely.geometry import Point, Polygon\n",
    "from sodapy import Socrata"
   ]
  },
  {
   "cell_type": "code",
   "execution_count": 48,
   "metadata": {},
   "outputs": [
    {
     "output_type": "error",
     "ename": "FileNotFoundError",
     "evalue": "[Errno 2] File crime.csv does not exist: 'crime.csv'",
     "traceback": [
      "\u001b[0;31m---------------------------------------------------------------------------\u001b[0m",
      "\u001b[0;31mFileNotFoundError\u001b[0m                         Traceback (most recent call last)",
      "\u001b[0;32m<ipython-input-48-71adac829d77>\u001b[0m in \u001b[0;36m<module>\u001b[0;34m\u001b[0m\n\u001b[0;32m----> 1\u001b[0;31m \u001b[0mcrimeData\u001b[0m \u001b[0;34m=\u001b[0m \u001b[0mpd\u001b[0m\u001b[0;34m.\u001b[0m\u001b[0mread_csv\u001b[0m\u001b[0;34m(\u001b[0m\u001b[0;34m\"crime.csv\"\u001b[0m\u001b[0;34m)\u001b[0m\u001b[0;34m\u001b[0m\u001b[0;34m\u001b[0m\u001b[0m\n\u001b[0m\u001b[1;32m      2\u001b[0m \u001b[0mcrimeData\u001b[0m\u001b[0;34m.\u001b[0m\u001b[0msample\u001b[0m\u001b[0;34m(\u001b[0m\u001b[0;36m10\u001b[0m\u001b[0;34m)\u001b[0m\u001b[0;34m\u001b[0m\u001b[0;34m\u001b[0m\u001b[0m\n",
      "\u001b[0;32m~/opt/anaconda3/lib/python3.8/site-packages/pandas/io/parsers.py\u001b[0m in \u001b[0;36mparser_f\u001b[0;34m(filepath_or_buffer, sep, delimiter, header, names, index_col, usecols, squeeze, prefix, mangle_dupe_cols, dtype, engine, converters, true_values, false_values, skipinitialspace, skiprows, skipfooter, nrows, na_values, keep_default_na, na_filter, verbose, skip_blank_lines, parse_dates, infer_datetime_format, keep_date_col, date_parser, dayfirst, cache_dates, iterator, chunksize, compression, thousands, decimal, lineterminator, quotechar, quoting, doublequote, escapechar, comment, encoding, dialect, error_bad_lines, warn_bad_lines, delim_whitespace, low_memory, memory_map, float_precision)\u001b[0m\n\u001b[1;32m    674\u001b[0m         )\n\u001b[1;32m    675\u001b[0m \u001b[0;34m\u001b[0m\u001b[0m\n\u001b[0;32m--> 676\u001b[0;31m         \u001b[0;32mreturn\u001b[0m \u001b[0m_read\u001b[0m\u001b[0;34m(\u001b[0m\u001b[0mfilepath_or_buffer\u001b[0m\u001b[0;34m,\u001b[0m \u001b[0mkwds\u001b[0m\u001b[0;34m)\u001b[0m\u001b[0;34m\u001b[0m\u001b[0;34m\u001b[0m\u001b[0m\n\u001b[0m\u001b[1;32m    677\u001b[0m \u001b[0;34m\u001b[0m\u001b[0m\n\u001b[1;32m    678\u001b[0m     \u001b[0mparser_f\u001b[0m\u001b[0;34m.\u001b[0m\u001b[0m__name__\u001b[0m \u001b[0;34m=\u001b[0m \u001b[0mname\u001b[0m\u001b[0;34m\u001b[0m\u001b[0;34m\u001b[0m\u001b[0m\n",
      "\u001b[0;32m~/opt/anaconda3/lib/python3.8/site-packages/pandas/io/parsers.py\u001b[0m in \u001b[0;36m_read\u001b[0;34m(filepath_or_buffer, kwds)\u001b[0m\n\u001b[1;32m    446\u001b[0m \u001b[0;34m\u001b[0m\u001b[0m\n\u001b[1;32m    447\u001b[0m     \u001b[0;31m# Create the parser.\u001b[0m\u001b[0;34m\u001b[0m\u001b[0;34m\u001b[0m\u001b[0;34m\u001b[0m\u001b[0m\n\u001b[0;32m--> 448\u001b[0;31m     \u001b[0mparser\u001b[0m \u001b[0;34m=\u001b[0m \u001b[0mTextFileReader\u001b[0m\u001b[0;34m(\u001b[0m\u001b[0mfp_or_buf\u001b[0m\u001b[0;34m,\u001b[0m \u001b[0;34m**\u001b[0m\u001b[0mkwds\u001b[0m\u001b[0;34m)\u001b[0m\u001b[0;34m\u001b[0m\u001b[0;34m\u001b[0m\u001b[0m\n\u001b[0m\u001b[1;32m    449\u001b[0m \u001b[0;34m\u001b[0m\u001b[0m\n\u001b[1;32m    450\u001b[0m     \u001b[0;32mif\u001b[0m \u001b[0mchunksize\u001b[0m \u001b[0;32mor\u001b[0m \u001b[0miterator\u001b[0m\u001b[0;34m:\u001b[0m\u001b[0;34m\u001b[0m\u001b[0;34m\u001b[0m\u001b[0m\n",
      "\u001b[0;32m~/opt/anaconda3/lib/python3.8/site-packages/pandas/io/parsers.py\u001b[0m in \u001b[0;36m__init__\u001b[0;34m(self, f, engine, **kwds)\u001b[0m\n\u001b[1;32m    878\u001b[0m             \u001b[0mself\u001b[0m\u001b[0;34m.\u001b[0m\u001b[0moptions\u001b[0m\u001b[0;34m[\u001b[0m\u001b[0;34m\"has_index_names\"\u001b[0m\u001b[0;34m]\u001b[0m \u001b[0;34m=\u001b[0m \u001b[0mkwds\u001b[0m\u001b[0;34m[\u001b[0m\u001b[0;34m\"has_index_names\"\u001b[0m\u001b[0;34m]\u001b[0m\u001b[0;34m\u001b[0m\u001b[0;34m\u001b[0m\u001b[0m\n\u001b[1;32m    879\u001b[0m \u001b[0;34m\u001b[0m\u001b[0m\n\u001b[0;32m--> 880\u001b[0;31m         \u001b[0mself\u001b[0m\u001b[0;34m.\u001b[0m\u001b[0m_make_engine\u001b[0m\u001b[0;34m(\u001b[0m\u001b[0mself\u001b[0m\u001b[0;34m.\u001b[0m\u001b[0mengine\u001b[0m\u001b[0;34m)\u001b[0m\u001b[0;34m\u001b[0m\u001b[0;34m\u001b[0m\u001b[0m\n\u001b[0m\u001b[1;32m    881\u001b[0m \u001b[0;34m\u001b[0m\u001b[0m\n\u001b[1;32m    882\u001b[0m     \u001b[0;32mdef\u001b[0m \u001b[0mclose\u001b[0m\u001b[0;34m(\u001b[0m\u001b[0mself\u001b[0m\u001b[0;34m)\u001b[0m\u001b[0;34m:\u001b[0m\u001b[0;34m\u001b[0m\u001b[0;34m\u001b[0m\u001b[0m\n",
      "\u001b[0;32m~/opt/anaconda3/lib/python3.8/site-packages/pandas/io/parsers.py\u001b[0m in \u001b[0;36m_make_engine\u001b[0;34m(self, engine)\u001b[0m\n\u001b[1;32m   1112\u001b[0m     \u001b[0;32mdef\u001b[0m \u001b[0m_make_engine\u001b[0m\u001b[0;34m(\u001b[0m\u001b[0mself\u001b[0m\u001b[0;34m,\u001b[0m \u001b[0mengine\u001b[0m\u001b[0;34m=\u001b[0m\u001b[0;34m\"c\"\u001b[0m\u001b[0;34m)\u001b[0m\u001b[0;34m:\u001b[0m\u001b[0;34m\u001b[0m\u001b[0;34m\u001b[0m\u001b[0m\n\u001b[1;32m   1113\u001b[0m         \u001b[0;32mif\u001b[0m \u001b[0mengine\u001b[0m \u001b[0;34m==\u001b[0m \u001b[0;34m\"c\"\u001b[0m\u001b[0;34m:\u001b[0m\u001b[0;34m\u001b[0m\u001b[0;34m\u001b[0m\u001b[0m\n\u001b[0;32m-> 1114\u001b[0;31m             \u001b[0mself\u001b[0m\u001b[0;34m.\u001b[0m\u001b[0m_engine\u001b[0m \u001b[0;34m=\u001b[0m \u001b[0mCParserWrapper\u001b[0m\u001b[0;34m(\u001b[0m\u001b[0mself\u001b[0m\u001b[0;34m.\u001b[0m\u001b[0mf\u001b[0m\u001b[0;34m,\u001b[0m \u001b[0;34m**\u001b[0m\u001b[0mself\u001b[0m\u001b[0;34m.\u001b[0m\u001b[0moptions\u001b[0m\u001b[0;34m)\u001b[0m\u001b[0;34m\u001b[0m\u001b[0;34m\u001b[0m\u001b[0m\n\u001b[0m\u001b[1;32m   1115\u001b[0m         \u001b[0;32melse\u001b[0m\u001b[0;34m:\u001b[0m\u001b[0;34m\u001b[0m\u001b[0;34m\u001b[0m\u001b[0m\n\u001b[1;32m   1116\u001b[0m             \u001b[0;32mif\u001b[0m \u001b[0mengine\u001b[0m \u001b[0;34m==\u001b[0m \u001b[0;34m\"python\"\u001b[0m\u001b[0;34m:\u001b[0m\u001b[0;34m\u001b[0m\u001b[0;34m\u001b[0m\u001b[0m\n",
      "\u001b[0;32m~/opt/anaconda3/lib/python3.8/site-packages/pandas/io/parsers.py\u001b[0m in \u001b[0;36m__init__\u001b[0;34m(self, src, **kwds)\u001b[0m\n\u001b[1;32m   1889\u001b[0m         \u001b[0mkwds\u001b[0m\u001b[0;34m[\u001b[0m\u001b[0;34m\"usecols\"\u001b[0m\u001b[0;34m]\u001b[0m \u001b[0;34m=\u001b[0m \u001b[0mself\u001b[0m\u001b[0;34m.\u001b[0m\u001b[0musecols\u001b[0m\u001b[0;34m\u001b[0m\u001b[0;34m\u001b[0m\u001b[0m\n\u001b[1;32m   1890\u001b[0m \u001b[0;34m\u001b[0m\u001b[0m\n\u001b[0;32m-> 1891\u001b[0;31m         \u001b[0mself\u001b[0m\u001b[0;34m.\u001b[0m\u001b[0m_reader\u001b[0m \u001b[0;34m=\u001b[0m \u001b[0mparsers\u001b[0m\u001b[0;34m.\u001b[0m\u001b[0mTextReader\u001b[0m\u001b[0;34m(\u001b[0m\u001b[0msrc\u001b[0m\u001b[0;34m,\u001b[0m \u001b[0;34m**\u001b[0m\u001b[0mkwds\u001b[0m\u001b[0;34m)\u001b[0m\u001b[0;34m\u001b[0m\u001b[0;34m\u001b[0m\u001b[0m\n\u001b[0m\u001b[1;32m   1892\u001b[0m         \u001b[0mself\u001b[0m\u001b[0;34m.\u001b[0m\u001b[0munnamed_cols\u001b[0m \u001b[0;34m=\u001b[0m \u001b[0mself\u001b[0m\u001b[0;34m.\u001b[0m\u001b[0m_reader\u001b[0m\u001b[0;34m.\u001b[0m\u001b[0munnamed_cols\u001b[0m\u001b[0;34m\u001b[0m\u001b[0;34m\u001b[0m\u001b[0m\n\u001b[1;32m   1893\u001b[0m \u001b[0;34m\u001b[0m\u001b[0m\n",
      "\u001b[0;32mpandas/_libs/parsers.pyx\u001b[0m in \u001b[0;36mpandas._libs.parsers.TextReader.__cinit__\u001b[0;34m()\u001b[0m\n",
      "\u001b[0;32mpandas/_libs/parsers.pyx\u001b[0m in \u001b[0;36mpandas._libs.parsers.TextReader._setup_parser_source\u001b[0;34m()\u001b[0m\n",
      "\u001b[0;31mFileNotFoundError\u001b[0m: [Errno 2] File crime.csv does not exist: 'crime.csv'"
     ]
    }
   ],
   "source": [
    "crimeData = pd.read_csv(\"crime.csv\")\n",
    "crimeData.sample(10)"
   ]
  },
  {
   "cell_type": "code",
   "execution_count": 5,
   "metadata": {},
   "outputs": [
    {
     "output_type": "stream",
     "name": "stdout",
     "text": [
      "<class 'pandas.core.frame.DataFrame'>\nRangeIndex: 2237605 entries, 0 to 2237604\nData columns (total 14 columns):\n #   Column              Dtype  \n---  ------              -----  \n 0   Dc_Dist             int64  \n 1   Psa                 object \n 2   Dispatch_Date_Time  object \n 3   Dispatch_Date       object \n 4   Dispatch_Time       object \n 5   Hour                int64  \n 6   Dc_Key              int64  \n 7   Location_Block      object \n 8   UCR_General         float64\n 9   Text_General_Code   object \n 10  Police_Districts    float64\n 11  Month               object \n 12  Lon                 float64\n 13  Lat                 float64\ndtypes: float64(4), int64(3), object(7)\nmemory usage: 239.0+ MB\n"
     ]
    }
   ],
   "source": [
    "crimeData.info()"
   ]
  },
  {
   "cell_type": "code",
   "execution_count": 6,
   "metadata": {},
   "outputs": [
    {
     "output_type": "execute_result",
     "data": {
      "text/plain": [
       "            Dc_Dist          Hour        Dc_Key   UCR_General  \\\n",
       "count  2.237605e+06  2.237605e+06  2.237605e+06  2.236942e+06   \n",
       "mean   1.726837e+01  1.315990e+01  2.010975e+11  1.271354e+03   \n",
       "std    1.064898e+01  6.799952e+00  3.234684e+08  8.143510e+02   \n",
       "min    1.000000e+00  0.000000e+00  1.998121e+11  1.000000e+02   \n",
       "25%    9.000000e+00  9.000000e+00  2.008151e+11  6.000000e+02   \n",
       "50%    1.600000e+01  1.400000e+01  2.011060e+11  8.000000e+02   \n",
       "75%    2.400000e+01  1.900000e+01  2.014021e+11  1.800000e+03   \n",
       "max    9.200000e+01  2.300000e+01  2.017770e+11  2.600000e+03   \n",
       "\n",
       "       Police_Districts           Lon           Lat  \n",
       "count      2.217675e+06  2.220256e+06  2.220256e+06  \n",
       "mean       1.206404e+01 -7.514992e+01  3.999201e+01  \n",
       "std        5.792056e+00  5.973890e-02  4.534823e-02  \n",
       "min        1.000000e+00 -7.527773e+01  3.986999e+01  \n",
       "25%        8.000000e+00 -7.518490e+01  3.995571e+01  \n",
       "50%        1.200000e+01 -7.515668e+01  3.999105e+01  \n",
       "75%        1.700000e+01 -7.511844e+01  4.002739e+01  \n",
       "max        2.200000e+01 -7.495750e+01  4.013790e+01  "
      ],
      "text/html": "<div>\n<style scoped>\n    .dataframe tbody tr th:only-of-type {\n        vertical-align: middle;\n    }\n\n    .dataframe tbody tr th {\n        vertical-align: top;\n    }\n\n    .dataframe thead th {\n        text-align: right;\n    }\n</style>\n<table border=\"1\" class=\"dataframe\">\n  <thead>\n    <tr style=\"text-align: right;\">\n      <th></th>\n      <th>Dc_Dist</th>\n      <th>Hour</th>\n      <th>Dc_Key</th>\n      <th>UCR_General</th>\n      <th>Police_Districts</th>\n      <th>Lon</th>\n      <th>Lat</th>\n    </tr>\n  </thead>\n  <tbody>\n    <tr>\n      <th>count</th>\n      <td>2.237605e+06</td>\n      <td>2.237605e+06</td>\n      <td>2.237605e+06</td>\n      <td>2.236942e+06</td>\n      <td>2.217675e+06</td>\n      <td>2.220256e+06</td>\n      <td>2.220256e+06</td>\n    </tr>\n    <tr>\n      <th>mean</th>\n      <td>1.726837e+01</td>\n      <td>1.315990e+01</td>\n      <td>2.010975e+11</td>\n      <td>1.271354e+03</td>\n      <td>1.206404e+01</td>\n      <td>-7.514992e+01</td>\n      <td>3.999201e+01</td>\n    </tr>\n    <tr>\n      <th>std</th>\n      <td>1.064898e+01</td>\n      <td>6.799952e+00</td>\n      <td>3.234684e+08</td>\n      <td>8.143510e+02</td>\n      <td>5.792056e+00</td>\n      <td>5.973890e-02</td>\n      <td>4.534823e-02</td>\n    </tr>\n    <tr>\n      <th>min</th>\n      <td>1.000000e+00</td>\n      <td>0.000000e+00</td>\n      <td>1.998121e+11</td>\n      <td>1.000000e+02</td>\n      <td>1.000000e+00</td>\n      <td>-7.527773e+01</td>\n      <td>3.986999e+01</td>\n    </tr>\n    <tr>\n      <th>25%</th>\n      <td>9.000000e+00</td>\n      <td>9.000000e+00</td>\n      <td>2.008151e+11</td>\n      <td>6.000000e+02</td>\n      <td>8.000000e+00</td>\n      <td>-7.518490e+01</td>\n      <td>3.995571e+01</td>\n    </tr>\n    <tr>\n      <th>50%</th>\n      <td>1.600000e+01</td>\n      <td>1.400000e+01</td>\n      <td>2.011060e+11</td>\n      <td>8.000000e+02</td>\n      <td>1.200000e+01</td>\n      <td>-7.515668e+01</td>\n      <td>3.999105e+01</td>\n    </tr>\n    <tr>\n      <th>75%</th>\n      <td>2.400000e+01</td>\n      <td>1.900000e+01</td>\n      <td>2.014021e+11</td>\n      <td>1.800000e+03</td>\n      <td>1.700000e+01</td>\n      <td>-7.511844e+01</td>\n      <td>4.002739e+01</td>\n    </tr>\n    <tr>\n      <th>max</th>\n      <td>9.200000e+01</td>\n      <td>2.300000e+01</td>\n      <td>2.017770e+11</td>\n      <td>2.600000e+03</td>\n      <td>2.200000e+01</td>\n      <td>-7.495750e+01</td>\n      <td>4.013790e+01</td>\n    </tr>\n  </tbody>\n</table>\n</div>"
     },
     "metadata": {},
     "execution_count": 6
    }
   ],
   "source": [
    "crimeData.describe()"
   ]
  },
  {
   "cell_type": "code",
   "execution_count": 7,
   "metadata": {},
   "outputs": [
    {
     "output_type": "stream",
     "name": "stdout",
     "text": [
      "Dc_Dist\nPsa\nDispatch_Date_Time\nDispatch_Date\nDispatch_Time\nHour\nDc_Key\nLocation_Block\nUCR_General\nText_General_Code\nPolice_Districts\nMonth\nLon\nLat\n"
     ]
    }
   ],
   "source": [
    "for column in crimeData.columns:\n",
    "    print(column)"
   ]
  },
  {
   "cell_type": "code",
   "execution_count": 8,
   "metadata": {},
   "outputs": [
    {
     "output_type": "execute_result",
     "data": {
      "text/plain": [
       "         Dc_Dist Psa   Dispatch_Date_Time Dispatch_Date Dispatch_Time  Hour  \\\n",
       "2172835       24   3  2017-03-23 01:29:00    2017-03-23      01:29:00     1   \n",
       "2196468        2   1  2017-03-23 00:33:00    2017-03-23      00:33:00     0   \n",
       "2184415       39   1  2017-03-23 00:26:00    2017-03-23      00:26:00     0   \n",
       "2188099        2   3  2017-03-23 00:18:00    2017-03-23      00:18:00     0   \n",
       "2185761        7   3  2017-03-23 00:06:00    2017-03-23      00:06:00     0   \n",
       "...          ...  ..                  ...           ...           ...   ...   \n",
       "1395649       12   P  2006-01-01 00:05:00    2006-01-01      00:05:00     0   \n",
       "1325562       18   Q  2006-01-01 00:04:00    2006-01-01      00:04:00     0   \n",
       "1338793       19   R  2006-01-01 00:02:00    2006-01-01      00:02:00     0   \n",
       "1389932        3   I  2006-01-01 00:02:00    2006-01-01      00:02:00     0   \n",
       "1038493        3   I  2006-01-01 00:00:00    2006-01-01      00:00:00     0   \n",
       "\n",
       "               Dc_Key            Location_Block  UCR_General  \\\n",
       "2172835  201724026395    3700 BLOCK RICHMOND ST        400.0   \n",
       "2196468  201702015317   6400 BLOCK BUSTLETON AV       2600.0   \n",
       "2184415  201739021055  5700 BLOCK MORRIS ST 101        800.0   \n",
       "2188099  201702015318     7600 E ROOSEVELT BLVD       1100.0   \n",
       "2185761  201707007521         500 BLOCK AVON ST        800.0   \n",
       "...               ...                       ...          ...   \n",
       "1395649  200612000011      1700 BLOCK S 58TH ST       1500.0   \n",
       "1325562  200618000007       400 BLOCK S 55TH ST       1500.0   \n",
       "1338793  200619000047      5500 BLOCK CHERRY ST        800.0   \n",
       "1389932  200603000001        S 8TH ST /SOUTH ST       2600.0   \n",
       "1038493  200603000002        S 8TH ST /SOUTH ST       2600.0   \n",
       "\n",
       "                     Text_General_Code  Police_Districts    Month        Lon  \\\n",
       "2172835  Aggravated Assault No Firearm              17.0  2017-03 -75.087735   \n",
       "2196468             All Other Offenses               2.0  2017-03 -75.070528   \n",
       "2184415                 Other Assaults              21.0  2017-03 -75.182257   \n",
       "2188099                          Fraud               2.0  2017-03 -75.051546   \n",
       "2185761                 Other Assaults               6.0  2017-03 -75.026776   \n",
       "...                                ...               ...      ...        ...   \n",
       "1395649              Weapon Violations               9.0  2006-01 -75.230711   \n",
       "1325562              Weapon Violations              14.0  2006-01 -75.232374   \n",
       "1338793                 Other Assaults              15.0  2006-01 -75.231975   \n",
       "1389932             All Other Offenses               3.0  2006-01 -75.155491   \n",
       "1038493             All Other Offenses               3.0  2006-01 -75.155491   \n",
       "\n",
       "               Lat  \n",
       "2172835  39.990090  \n",
       "2196468  40.035690  \n",
       "2184415  40.029790  \n",
       "2188099  40.050521  \n",
       "2185761  40.113273  \n",
       "...            ...  \n",
       "1395649  39.937644  \n",
       "1325562  39.953490  \n",
       "1338793  39.963220  \n",
       "1389932  39.942416  \n",
       "1038493  39.942416  \n",
       "\n",
       "[2237605 rows x 14 columns]"
      ],
      "text/html": "<div>\n<style scoped>\n    .dataframe tbody tr th:only-of-type {\n        vertical-align: middle;\n    }\n\n    .dataframe tbody tr th {\n        vertical-align: top;\n    }\n\n    .dataframe thead th {\n        text-align: right;\n    }\n</style>\n<table border=\"1\" class=\"dataframe\">\n  <thead>\n    <tr style=\"text-align: right;\">\n      <th></th>\n      <th>Dc_Dist</th>\n      <th>Psa</th>\n      <th>Dispatch_Date_Time</th>\n      <th>Dispatch_Date</th>\n      <th>Dispatch_Time</th>\n      <th>Hour</th>\n      <th>Dc_Key</th>\n      <th>Location_Block</th>\n      <th>UCR_General</th>\n      <th>Text_General_Code</th>\n      <th>Police_Districts</th>\n      <th>Month</th>\n      <th>Lon</th>\n      <th>Lat</th>\n    </tr>\n  </thead>\n  <tbody>\n    <tr>\n      <th>2172835</th>\n      <td>24</td>\n      <td>3</td>\n      <td>2017-03-23 01:29:00</td>\n      <td>2017-03-23</td>\n      <td>01:29:00</td>\n      <td>1</td>\n      <td>201724026395</td>\n      <td>3700 BLOCK RICHMOND ST</td>\n      <td>400.0</td>\n      <td>Aggravated Assault No Firearm</td>\n      <td>17.0</td>\n      <td>2017-03</td>\n      <td>-75.087735</td>\n      <td>39.990090</td>\n    </tr>\n    <tr>\n      <th>2196468</th>\n      <td>2</td>\n      <td>1</td>\n      <td>2017-03-23 00:33:00</td>\n      <td>2017-03-23</td>\n      <td>00:33:00</td>\n      <td>0</td>\n      <td>201702015317</td>\n      <td>6400 BLOCK BUSTLETON AV</td>\n      <td>2600.0</td>\n      <td>All Other Offenses</td>\n      <td>2.0</td>\n      <td>2017-03</td>\n      <td>-75.070528</td>\n      <td>40.035690</td>\n    </tr>\n    <tr>\n      <th>2184415</th>\n      <td>39</td>\n      <td>1</td>\n      <td>2017-03-23 00:26:00</td>\n      <td>2017-03-23</td>\n      <td>00:26:00</td>\n      <td>0</td>\n      <td>201739021055</td>\n      <td>5700 BLOCK MORRIS ST 101</td>\n      <td>800.0</td>\n      <td>Other Assaults</td>\n      <td>21.0</td>\n      <td>2017-03</td>\n      <td>-75.182257</td>\n      <td>40.029790</td>\n    </tr>\n    <tr>\n      <th>2188099</th>\n      <td>2</td>\n      <td>3</td>\n      <td>2017-03-23 00:18:00</td>\n      <td>2017-03-23</td>\n      <td>00:18:00</td>\n      <td>0</td>\n      <td>201702015318</td>\n      <td>7600 E ROOSEVELT BLVD</td>\n      <td>1100.0</td>\n      <td>Fraud</td>\n      <td>2.0</td>\n      <td>2017-03</td>\n      <td>-75.051546</td>\n      <td>40.050521</td>\n    </tr>\n    <tr>\n      <th>2185761</th>\n      <td>7</td>\n      <td>3</td>\n      <td>2017-03-23 00:06:00</td>\n      <td>2017-03-23</td>\n      <td>00:06:00</td>\n      <td>0</td>\n      <td>201707007521</td>\n      <td>500 BLOCK AVON ST</td>\n      <td>800.0</td>\n      <td>Other Assaults</td>\n      <td>6.0</td>\n      <td>2017-03</td>\n      <td>-75.026776</td>\n      <td>40.113273</td>\n    </tr>\n    <tr>\n      <th>...</th>\n      <td>...</td>\n      <td>...</td>\n      <td>...</td>\n      <td>...</td>\n      <td>...</td>\n      <td>...</td>\n      <td>...</td>\n      <td>...</td>\n      <td>...</td>\n      <td>...</td>\n      <td>...</td>\n      <td>...</td>\n      <td>...</td>\n      <td>...</td>\n    </tr>\n    <tr>\n      <th>1395649</th>\n      <td>12</td>\n      <td>P</td>\n      <td>2006-01-01 00:05:00</td>\n      <td>2006-01-01</td>\n      <td>00:05:00</td>\n      <td>0</td>\n      <td>200612000011</td>\n      <td>1700 BLOCK S 58TH ST</td>\n      <td>1500.0</td>\n      <td>Weapon Violations</td>\n      <td>9.0</td>\n      <td>2006-01</td>\n      <td>-75.230711</td>\n      <td>39.937644</td>\n    </tr>\n    <tr>\n      <th>1325562</th>\n      <td>18</td>\n      <td>Q</td>\n      <td>2006-01-01 00:04:00</td>\n      <td>2006-01-01</td>\n      <td>00:04:00</td>\n      <td>0</td>\n      <td>200618000007</td>\n      <td>400 BLOCK S 55TH ST</td>\n      <td>1500.0</td>\n      <td>Weapon Violations</td>\n      <td>14.0</td>\n      <td>2006-01</td>\n      <td>-75.232374</td>\n      <td>39.953490</td>\n    </tr>\n    <tr>\n      <th>1338793</th>\n      <td>19</td>\n      <td>R</td>\n      <td>2006-01-01 00:02:00</td>\n      <td>2006-01-01</td>\n      <td>00:02:00</td>\n      <td>0</td>\n      <td>200619000047</td>\n      <td>5500 BLOCK CHERRY ST</td>\n      <td>800.0</td>\n      <td>Other Assaults</td>\n      <td>15.0</td>\n      <td>2006-01</td>\n      <td>-75.231975</td>\n      <td>39.963220</td>\n    </tr>\n    <tr>\n      <th>1389932</th>\n      <td>3</td>\n      <td>I</td>\n      <td>2006-01-01 00:02:00</td>\n      <td>2006-01-01</td>\n      <td>00:02:00</td>\n      <td>0</td>\n      <td>200603000001</td>\n      <td>S 8TH ST /SOUTH ST</td>\n      <td>2600.0</td>\n      <td>All Other Offenses</td>\n      <td>3.0</td>\n      <td>2006-01</td>\n      <td>-75.155491</td>\n      <td>39.942416</td>\n    </tr>\n    <tr>\n      <th>1038493</th>\n      <td>3</td>\n      <td>I</td>\n      <td>2006-01-01 00:00:00</td>\n      <td>2006-01-01</td>\n      <td>00:00:00</td>\n      <td>0</td>\n      <td>200603000002</td>\n      <td>S 8TH ST /SOUTH ST</td>\n      <td>2600.0</td>\n      <td>All Other Offenses</td>\n      <td>3.0</td>\n      <td>2006-01</td>\n      <td>-75.155491</td>\n      <td>39.942416</td>\n    </tr>\n  </tbody>\n</table>\n<p>2237605 rows × 14 columns</p>\n</div>"
     },
     "metadata": {},
     "execution_count": 8
    }
   ],
   "source": [
    "crimeData.sort_values(\"Dispatch_Date_Time\", ascending = False)"
   ]
  },
  {
   "cell_type": "code",
   "execution_count": 9,
   "metadata": {},
   "outputs": [],
   "source": [
    "crimeData.replace('', float('NaN'), inplace = True)\n",
    "crimeData.dropna(subset = [\"Lon\"], inplace=True)\n",
    "crimeData.dropna(subset = [\"Lat\"], inplace=True)"
   ]
  },
  {
   "cell_type": "code",
   "execution_count": 15,
   "metadata": {},
   "outputs": [],
   "source": [
    "crimeData['events'] = 1"
   ]
  },
  {
   "cell_type": "code",
   "execution_count": 16,
   "metadata": {},
   "outputs": [
    {
     "output_type": "execute_result",
     "data": {
      "text/plain": [
       "    Dc_Dist Psa   Dispatch_Date_Time Dispatch_Date Dispatch_Time  Hour  \\\n",
       "3        35   D  2009-07-19 01:09:00    2009-07-19      01:09:00     1   \n",
       "4         9   R  2009-06-25 00:14:00    2009-06-25      00:14:00     0   \n",
       "5        17   1  2015-04-25 12:50:00    2015-04-25      12:50:00    12   \n",
       "6        23   K  2009-02-10 14:33:00    2009-02-10      14:33:00    14   \n",
       "12       22   3  2015-10-06 18:18:00    2015-10-06      18:18:00    18   \n",
       "\n",
       "          Dc_Key        Location_Block  UCR_General   Text_General_Code  \\\n",
       "3   200935061008   5500 BLOCK N 5TH ST       1500.0   Weapon Violations   \n",
       "4   200909030511   1800 BLOCK WYLIE ST       2600.0  All Other Offenses   \n",
       "5   201517017705  800 BLOCK S BROAD ST        600.0              Thefts   \n",
       "6   200923006310  2200 BLOCK RIDGE AVE        800.0      Other Assaults   \n",
       "12  201522089374  1500 BLOCK N 15TH ST        600.0              Thefts   \n",
       "\n",
       "    Police_Districts    Month        Lon        Lat  events  \n",
       "3               20.0  2009-07 -75.130477  40.036389       1  \n",
       "4                8.0  2009-06 -75.166350  39.969532       1  \n",
       "5               13.0  2015-04 -75.166412  39.940070       1  \n",
       "6               16.0  2009-02 -75.171149  39.979586       1  \n",
       "12              16.0  2015-10 -75.160229  39.976134       1  "
      ],
      "text/html": "<div>\n<style scoped>\n    .dataframe tbody tr th:only-of-type {\n        vertical-align: middle;\n    }\n\n    .dataframe tbody tr th {\n        vertical-align: top;\n    }\n\n    .dataframe thead th {\n        text-align: right;\n    }\n</style>\n<table border=\"1\" class=\"dataframe\">\n  <thead>\n    <tr style=\"text-align: right;\">\n      <th></th>\n      <th>Dc_Dist</th>\n      <th>Psa</th>\n      <th>Dispatch_Date_Time</th>\n      <th>Dispatch_Date</th>\n      <th>Dispatch_Time</th>\n      <th>Hour</th>\n      <th>Dc_Key</th>\n      <th>Location_Block</th>\n      <th>UCR_General</th>\n      <th>Text_General_Code</th>\n      <th>Police_Districts</th>\n      <th>Month</th>\n      <th>Lon</th>\n      <th>Lat</th>\n      <th>events</th>\n    </tr>\n  </thead>\n  <tbody>\n    <tr>\n      <th>3</th>\n      <td>35</td>\n      <td>D</td>\n      <td>2009-07-19 01:09:00</td>\n      <td>2009-07-19</td>\n      <td>01:09:00</td>\n      <td>1</td>\n      <td>200935061008</td>\n      <td>5500 BLOCK N 5TH ST</td>\n      <td>1500.0</td>\n      <td>Weapon Violations</td>\n      <td>20.0</td>\n      <td>2009-07</td>\n      <td>-75.130477</td>\n      <td>40.036389</td>\n      <td>1</td>\n    </tr>\n    <tr>\n      <th>4</th>\n      <td>9</td>\n      <td>R</td>\n      <td>2009-06-25 00:14:00</td>\n      <td>2009-06-25</td>\n      <td>00:14:00</td>\n      <td>0</td>\n      <td>200909030511</td>\n      <td>1800 BLOCK WYLIE ST</td>\n      <td>2600.0</td>\n      <td>All Other Offenses</td>\n      <td>8.0</td>\n      <td>2009-06</td>\n      <td>-75.166350</td>\n      <td>39.969532</td>\n      <td>1</td>\n    </tr>\n    <tr>\n      <th>5</th>\n      <td>17</td>\n      <td>1</td>\n      <td>2015-04-25 12:50:00</td>\n      <td>2015-04-25</td>\n      <td>12:50:00</td>\n      <td>12</td>\n      <td>201517017705</td>\n      <td>800 BLOCK S BROAD ST</td>\n      <td>600.0</td>\n      <td>Thefts</td>\n      <td>13.0</td>\n      <td>2015-04</td>\n      <td>-75.166412</td>\n      <td>39.940070</td>\n      <td>1</td>\n    </tr>\n    <tr>\n      <th>6</th>\n      <td>23</td>\n      <td>K</td>\n      <td>2009-02-10 14:33:00</td>\n      <td>2009-02-10</td>\n      <td>14:33:00</td>\n      <td>14</td>\n      <td>200923006310</td>\n      <td>2200 BLOCK RIDGE AVE</td>\n      <td>800.0</td>\n      <td>Other Assaults</td>\n      <td>16.0</td>\n      <td>2009-02</td>\n      <td>-75.171149</td>\n      <td>39.979586</td>\n      <td>1</td>\n    </tr>\n    <tr>\n      <th>12</th>\n      <td>22</td>\n      <td>3</td>\n      <td>2015-10-06 18:18:00</td>\n      <td>2015-10-06</td>\n      <td>18:18:00</td>\n      <td>18</td>\n      <td>201522089374</td>\n      <td>1500 BLOCK N 15TH ST</td>\n      <td>600.0</td>\n      <td>Thefts</td>\n      <td>16.0</td>\n      <td>2015-10</td>\n      <td>-75.160229</td>\n      <td>39.976134</td>\n      <td>1</td>\n    </tr>\n  </tbody>\n</table>\n</div>"
     },
     "metadata": {},
     "execution_count": 16
    }
   ],
   "source": [
    "crimeData.head()"
   ]
  },
  {
   "cell_type": "code",
   "execution_count": null,
   "metadata": {},
   "outputs": [],
   "source": []
  },
  {
   "cell_type": "code",
   "execution_count": 17,
   "metadata": {},
   "outputs": [
    {
     "output_type": "execute_result",
     "data": {
      "text/plain": [
       "            Dc_Dist          Hour        Dc_Key   UCR_General  \\\n",
       "count  2.220256e+06  2.220256e+06  2.220256e+06  2.219602e+06   \n",
       "mean   1.717890e+01  1.316015e+01  2.010973e+11  1.272504e+03   \n",
       "std    1.037496e+01  6.801722e+00  3.231813e+08  8.146685e+02   \n",
       "min    1.000000e+00  0.000000e+00  1.998121e+11  1.000000e+02   \n",
       "25%    9.000000e+00  9.000000e+00  2.008151e+11  6.000000e+02   \n",
       "50%    1.600000e+01  1.400000e+01  2.011060e+11  8.000000e+02   \n",
       "75%    2.400000e+01  1.900000e+01  2.014021e+11  1.800000e+03   \n",
       "max    9.200000e+01  2.300000e+01  2.017770e+11  2.600000e+03   \n",
       "\n",
       "       Police_Districts           Lon           Lat     events  \n",
       "count      2.217675e+06  2.220256e+06  2.220256e+06  2220256.0  \n",
       "mean       1.206404e+01 -7.514992e+01  3.999201e+01        1.0  \n",
       "std        5.792056e+00  5.973890e-02  4.534823e-02        0.0  \n",
       "min        1.000000e+00 -7.527773e+01  3.986999e+01        1.0  \n",
       "25%        8.000000e+00 -7.518490e+01  3.995571e+01        1.0  \n",
       "50%        1.200000e+01 -7.515668e+01  3.999105e+01        1.0  \n",
       "75%        1.700000e+01 -7.511844e+01  4.002739e+01        1.0  \n",
       "max        2.200000e+01 -7.495750e+01  4.013790e+01        1.0  "
      ],
      "text/html": "<div>\n<style scoped>\n    .dataframe tbody tr th:only-of-type {\n        vertical-align: middle;\n    }\n\n    .dataframe tbody tr th {\n        vertical-align: top;\n    }\n\n    .dataframe thead th {\n        text-align: right;\n    }\n</style>\n<table border=\"1\" class=\"dataframe\">\n  <thead>\n    <tr style=\"text-align: right;\">\n      <th></th>\n      <th>Dc_Dist</th>\n      <th>Hour</th>\n      <th>Dc_Key</th>\n      <th>UCR_General</th>\n      <th>Police_Districts</th>\n      <th>Lon</th>\n      <th>Lat</th>\n      <th>events</th>\n    </tr>\n  </thead>\n  <tbody>\n    <tr>\n      <th>count</th>\n      <td>2.220256e+06</td>\n      <td>2.220256e+06</td>\n      <td>2.220256e+06</td>\n      <td>2.219602e+06</td>\n      <td>2.217675e+06</td>\n      <td>2.220256e+06</td>\n      <td>2.220256e+06</td>\n      <td>2220256.0</td>\n    </tr>\n    <tr>\n      <th>mean</th>\n      <td>1.717890e+01</td>\n      <td>1.316015e+01</td>\n      <td>2.010973e+11</td>\n      <td>1.272504e+03</td>\n      <td>1.206404e+01</td>\n      <td>-7.514992e+01</td>\n      <td>3.999201e+01</td>\n      <td>1.0</td>\n    </tr>\n    <tr>\n      <th>std</th>\n      <td>1.037496e+01</td>\n      <td>6.801722e+00</td>\n      <td>3.231813e+08</td>\n      <td>8.146685e+02</td>\n      <td>5.792056e+00</td>\n      <td>5.973890e-02</td>\n      <td>4.534823e-02</td>\n      <td>0.0</td>\n    </tr>\n    <tr>\n      <th>min</th>\n      <td>1.000000e+00</td>\n      <td>0.000000e+00</td>\n      <td>1.998121e+11</td>\n      <td>1.000000e+02</td>\n      <td>1.000000e+00</td>\n      <td>-7.527773e+01</td>\n      <td>3.986999e+01</td>\n      <td>1.0</td>\n    </tr>\n    <tr>\n      <th>25%</th>\n      <td>9.000000e+00</td>\n      <td>9.000000e+00</td>\n      <td>2.008151e+11</td>\n      <td>6.000000e+02</td>\n      <td>8.000000e+00</td>\n      <td>-7.518490e+01</td>\n      <td>3.995571e+01</td>\n      <td>1.0</td>\n    </tr>\n    <tr>\n      <th>50%</th>\n      <td>1.600000e+01</td>\n      <td>1.400000e+01</td>\n      <td>2.011060e+11</td>\n      <td>8.000000e+02</td>\n      <td>1.200000e+01</td>\n      <td>-7.515668e+01</td>\n      <td>3.999105e+01</td>\n      <td>1.0</td>\n    </tr>\n    <tr>\n      <th>75%</th>\n      <td>2.400000e+01</td>\n      <td>1.900000e+01</td>\n      <td>2.014021e+11</td>\n      <td>1.800000e+03</td>\n      <td>1.700000e+01</td>\n      <td>-7.511844e+01</td>\n      <td>4.002739e+01</td>\n      <td>1.0</td>\n    </tr>\n    <tr>\n      <th>max</th>\n      <td>9.200000e+01</td>\n      <td>2.300000e+01</td>\n      <td>2.017770e+11</td>\n      <td>2.600000e+03</td>\n      <td>2.200000e+01</td>\n      <td>-7.495750e+01</td>\n      <td>4.013790e+01</td>\n      <td>1.0</td>\n    </tr>\n  </tbody>\n</table>\n</div>"
     },
     "metadata": {},
     "execution_count": 17
    }
   ],
   "source": [
    "crimeData.describe()"
   ]
  },
  {
   "cell_type": "code",
   "execution_count": 21,
   "metadata": {},
   "outputs": [
    {
     "output_type": "execute_result",
     "data": {
      "text/plain": [
       "                                       Dc_Dist  Hour        Dc_Key  \\\n",
       "Location_Block                                                       \n",
       "\"A\" ST  & WESTMORELAND ST                   25     2  200925005765   \n",
       "\"A\" ST. & WESTMORELAND ST                   25     4  200925005780   \n",
       "\"F\" CHECKPOINT                              77    11  200777000714   \n",
       "\"F\" TERMINAL @ 98 PIA WAY                   77     0  200777008844   \n",
       "(5700) GERMANTOWN AND CHELTEN AVENUES       14    23  201514094916   \n",
       "0 BLOCK         / RACE ST                   16    21  201216028446   \n",
       "0 BLOCK     ST / W BERKS ST                 22    12  200822023140   \n",
       "0 BLOCK   FRANKLIN MILLS CIR                 8    12  200708044595   \n",
       "0 BLOCK   MIFFLIN ST                         4    10  200804014402   \n",
       "0 BLOCK   RUBY ST                           18    15  200818029386   \n",
       "\n",
       "                                       UCR_General  Police_Districts  \\\n",
       "Location_Block                                                         \n",
       "\"A\" ST  & WESTMORELAND ST                    100.0              18.0   \n",
       "\"A\" ST. & WESTMORELAND ST                    400.0              18.0   \n",
       "\"F\" CHECKPOINT                               800.0               9.0   \n",
       "\"F\" TERMINAL @ 98 PIA WAY                    600.0              22.0   \n",
       "(5700) GERMANTOWN AND CHELTEN AVENUES       1100.0              10.0   \n",
       "0 BLOCK         / RACE ST                    400.0              12.0   \n",
       "0 BLOCK     ST / W BERKS ST                 2100.0              16.0   \n",
       "0 BLOCK   FRANKLIN MILLS CIR                 600.0               7.0   \n",
       "0 BLOCK   MIFFLIN ST                         600.0               3.0   \n",
       "0 BLOCK   RUBY ST                           1500.0              14.0   \n",
       "\n",
       "                                             Lon        Lat  events  \n",
       "Location_Block                                                       \n",
       "\"A\" ST  & WESTMORELAND ST             -75.127007  39.999890       1  \n",
       "\"A\" ST. & WESTMORELAND ST             -75.127007  39.999890       1  \n",
       "\"F\" CHECKPOINT                        -75.252199  39.876325       1  \n",
       "\"F\" TERMINAL @ 98 PIA WAY             -75.232354  39.883546       1  \n",
       "(5700) GERMANTOWN AND CHELTEN AVENUES -75.174727  40.035830       1  \n",
       "0 BLOCK         / RACE ST             -75.220273  39.962601       1  \n",
       "0 BLOCK     ST / W BERKS ST           -75.168642  39.983200       1  \n",
       "0 BLOCK   FRANKLIN MILLS CIR          -74.966039  40.082655       1  \n",
       "0 BLOCK   MIFFLIN ST                  -75.143638  39.923506       1  \n",
       "0 BLOCK   RUBY ST                     -75.228126  39.959580       1  "
      ],
      "text/html": "<div>\n<style scoped>\n    .dataframe tbody tr th:only-of-type {\n        vertical-align: middle;\n    }\n\n    .dataframe tbody tr th {\n        vertical-align: top;\n    }\n\n    .dataframe thead th {\n        text-align: right;\n    }\n</style>\n<table border=\"1\" class=\"dataframe\">\n  <thead>\n    <tr style=\"text-align: right;\">\n      <th></th>\n      <th>Dc_Dist</th>\n      <th>Hour</th>\n      <th>Dc_Key</th>\n      <th>UCR_General</th>\n      <th>Police_Districts</th>\n      <th>Lon</th>\n      <th>Lat</th>\n      <th>events</th>\n    </tr>\n    <tr>\n      <th>Location_Block</th>\n      <th></th>\n      <th></th>\n      <th></th>\n      <th></th>\n      <th></th>\n      <th></th>\n      <th></th>\n      <th></th>\n    </tr>\n  </thead>\n  <tbody>\n    <tr>\n      <th>\"A\" ST  &amp; WESTMORELAND ST</th>\n      <td>25</td>\n      <td>2</td>\n      <td>200925005765</td>\n      <td>100.0</td>\n      <td>18.0</td>\n      <td>-75.127007</td>\n      <td>39.999890</td>\n      <td>1</td>\n    </tr>\n    <tr>\n      <th>\"A\" ST. &amp; WESTMORELAND ST</th>\n      <td>25</td>\n      <td>4</td>\n      <td>200925005780</td>\n      <td>400.0</td>\n      <td>18.0</td>\n      <td>-75.127007</td>\n      <td>39.999890</td>\n      <td>1</td>\n    </tr>\n    <tr>\n      <th>\"F\" CHECKPOINT</th>\n      <td>77</td>\n      <td>11</td>\n      <td>200777000714</td>\n      <td>800.0</td>\n      <td>9.0</td>\n      <td>-75.252199</td>\n      <td>39.876325</td>\n      <td>1</td>\n    </tr>\n    <tr>\n      <th>\"F\" TERMINAL @ 98 PIA WAY</th>\n      <td>77</td>\n      <td>0</td>\n      <td>200777008844</td>\n      <td>600.0</td>\n      <td>22.0</td>\n      <td>-75.232354</td>\n      <td>39.883546</td>\n      <td>1</td>\n    </tr>\n    <tr>\n      <th>(5700) GERMANTOWN AND CHELTEN AVENUES</th>\n      <td>14</td>\n      <td>23</td>\n      <td>201514094916</td>\n      <td>1100.0</td>\n      <td>10.0</td>\n      <td>-75.174727</td>\n      <td>40.035830</td>\n      <td>1</td>\n    </tr>\n    <tr>\n      <th>0 BLOCK         / RACE ST</th>\n      <td>16</td>\n      <td>21</td>\n      <td>201216028446</td>\n      <td>400.0</td>\n      <td>12.0</td>\n      <td>-75.220273</td>\n      <td>39.962601</td>\n      <td>1</td>\n    </tr>\n    <tr>\n      <th>0 BLOCK     ST / W BERKS ST</th>\n      <td>22</td>\n      <td>12</td>\n      <td>200822023140</td>\n      <td>2100.0</td>\n      <td>16.0</td>\n      <td>-75.168642</td>\n      <td>39.983200</td>\n      <td>1</td>\n    </tr>\n    <tr>\n      <th>0 BLOCK   FRANKLIN MILLS CIR</th>\n      <td>8</td>\n      <td>12</td>\n      <td>200708044595</td>\n      <td>600.0</td>\n      <td>7.0</td>\n      <td>-74.966039</td>\n      <td>40.082655</td>\n      <td>1</td>\n    </tr>\n    <tr>\n      <th>0 BLOCK   MIFFLIN ST</th>\n      <td>4</td>\n      <td>10</td>\n      <td>200804014402</td>\n      <td>600.0</td>\n      <td>3.0</td>\n      <td>-75.143638</td>\n      <td>39.923506</td>\n      <td>1</td>\n    </tr>\n    <tr>\n      <th>0 BLOCK   RUBY ST</th>\n      <td>18</td>\n      <td>15</td>\n      <td>200818029386</td>\n      <td>1500.0</td>\n      <td>14.0</td>\n      <td>-75.228126</td>\n      <td>39.959580</td>\n      <td>1</td>\n    </tr>\n  </tbody>\n</table>\n</div>"
     },
     "metadata": {},
     "execution_count": 21
    }
   ],
   "source": [
    "groupCrimeLocations = crimeData.groupby('Location_Block').sum().head(10)\n",
    "groupCrimeLocations"
   ]
  },
  {
   "cell_type": "code",
   "execution_count": 22,
   "metadata": {},
   "outputs": [
    {
     "output_type": "execute_result",
     "data": {
      "text/plain": [
       "               Dc_Dist  Hour           Dc_Key  UCR_General  Police_Districts  \\\n",
       "Dispatch_Date                                                                  \n",
       "2006-01-01        9615  6416  120770815076812     777500.0            6786.0   \n",
       "2006-01-02       10594  6436  117361594200837     785700.0            7172.0   \n",
       "2006-01-03       11082  8543  125185482363353     774800.0            7660.0   \n",
       "2006-01-04       11875  9478  139428875572992     893200.0            8414.0   \n",
       "2006-01-05        9735  7850  116959535609372     808000.0            6791.0   \n",
       "2006-01-06       10253  7490  118765453773793     739200.0            7116.0   \n",
       "2006-01-07       10694  6014  120771894923631     830500.0            7430.0   \n",
       "2006-01-08       11347  6653  126389348135529     955600.0            7859.0   \n",
       "2006-01-09       11656  8450  132207057351023     791500.0            8072.0   \n",
       "2006-01-10       10398  8600  124382399439089     806700.0            7354.0   \n",
       "\n",
       "                        Lon           Lat  events  \n",
       "Dispatch_Date                                      \n",
       "2006-01-01    -45243.459462  24071.025594     602  \n",
       "2006-01-02    -43965.027880  23393.307910     585  \n",
       "2006-01-03    -46894.431630  24954.637898     624  \n",
       "2006-01-04    -52231.866531  27793.219366     695  \n",
       "2006-01-05    -43814.291540  23314.455785     583  \n",
       "2006-01-06    -44487.629837  23675.910716     592  \n",
       "2006-01-07    -45239.076933  24076.077756     602  \n",
       "2006-01-08    -47347.702847  25195.555819     630  \n",
       "2006-01-09    -49521.276631  26354.156053     659  \n",
       "2006-01-10    -46591.845131  24794.247603     620  "
      ],
      "text/html": "<div>\n<style scoped>\n    .dataframe tbody tr th:only-of-type {\n        vertical-align: middle;\n    }\n\n    .dataframe tbody tr th {\n        vertical-align: top;\n    }\n\n    .dataframe thead th {\n        text-align: right;\n    }\n</style>\n<table border=\"1\" class=\"dataframe\">\n  <thead>\n    <tr style=\"text-align: right;\">\n      <th></th>\n      <th>Dc_Dist</th>\n      <th>Hour</th>\n      <th>Dc_Key</th>\n      <th>UCR_General</th>\n      <th>Police_Districts</th>\n      <th>Lon</th>\n      <th>Lat</th>\n      <th>events</th>\n    </tr>\n    <tr>\n      <th>Dispatch_Date</th>\n      <th></th>\n      <th></th>\n      <th></th>\n      <th></th>\n      <th></th>\n      <th></th>\n      <th></th>\n      <th></th>\n    </tr>\n  </thead>\n  <tbody>\n    <tr>\n      <th>2006-01-01</th>\n      <td>9615</td>\n      <td>6416</td>\n      <td>120770815076812</td>\n      <td>777500.0</td>\n      <td>6786.0</td>\n      <td>-45243.459462</td>\n      <td>24071.025594</td>\n      <td>602</td>\n    </tr>\n    <tr>\n      <th>2006-01-02</th>\n      <td>10594</td>\n      <td>6436</td>\n      <td>117361594200837</td>\n      <td>785700.0</td>\n      <td>7172.0</td>\n      <td>-43965.027880</td>\n      <td>23393.307910</td>\n      <td>585</td>\n    </tr>\n    <tr>\n      <th>2006-01-03</th>\n      <td>11082</td>\n      <td>8543</td>\n      <td>125185482363353</td>\n      <td>774800.0</td>\n      <td>7660.0</td>\n      <td>-46894.431630</td>\n      <td>24954.637898</td>\n      <td>624</td>\n    </tr>\n    <tr>\n      <th>2006-01-04</th>\n      <td>11875</td>\n      <td>9478</td>\n      <td>139428875572992</td>\n      <td>893200.0</td>\n      <td>8414.0</td>\n      <td>-52231.866531</td>\n      <td>27793.219366</td>\n      <td>695</td>\n    </tr>\n    <tr>\n      <th>2006-01-05</th>\n      <td>9735</td>\n      <td>7850</td>\n      <td>116959535609372</td>\n      <td>808000.0</td>\n      <td>6791.0</td>\n      <td>-43814.291540</td>\n      <td>23314.455785</td>\n      <td>583</td>\n    </tr>\n    <tr>\n      <th>2006-01-06</th>\n      <td>10253</td>\n      <td>7490</td>\n      <td>118765453773793</td>\n      <td>739200.0</td>\n      <td>7116.0</td>\n      <td>-44487.629837</td>\n      <td>23675.910716</td>\n      <td>592</td>\n    </tr>\n    <tr>\n      <th>2006-01-07</th>\n      <td>10694</td>\n      <td>6014</td>\n      <td>120771894923631</td>\n      <td>830500.0</td>\n      <td>7430.0</td>\n      <td>-45239.076933</td>\n      <td>24076.077756</td>\n      <td>602</td>\n    </tr>\n    <tr>\n      <th>2006-01-08</th>\n      <td>11347</td>\n      <td>6653</td>\n      <td>126389348135529</td>\n      <td>955600.0</td>\n      <td>7859.0</td>\n      <td>-47347.702847</td>\n      <td>25195.555819</td>\n      <td>630</td>\n    </tr>\n    <tr>\n      <th>2006-01-09</th>\n      <td>11656</td>\n      <td>8450</td>\n      <td>132207057351023</td>\n      <td>791500.0</td>\n      <td>8072.0</td>\n      <td>-49521.276631</td>\n      <td>26354.156053</td>\n      <td>659</td>\n    </tr>\n    <tr>\n      <th>2006-01-10</th>\n      <td>10398</td>\n      <td>8600</td>\n      <td>124382399439089</td>\n      <td>806700.0</td>\n      <td>7354.0</td>\n      <td>-46591.845131</td>\n      <td>24794.247603</td>\n      <td>620</td>\n    </tr>\n  </tbody>\n</table>\n</div>"
     },
     "metadata": {},
     "execution_count": 22
    }
   ],
   "source": [
    "groupDates = crimeData.groupby('Dispatch_Date').sum().head(10)\n",
    "groupDates"
   ]
  },
  {
   "cell_type": "code",
   "execution_count": 42,
   "metadata": {},
   "outputs": [
    {
     "output_type": "execute_result",
     "data": {
      "text/plain": [
       "                                         Dc_Dist     Hour             Dc_Key  \\\n",
       "Text_General_Code                                                              \n",
       "Aggravated Assault Firearm                546999   363643   5562437653118799   \n",
       "Aggravated Assault No Firearm            1239167   882606  13759411907649408   \n",
       "All Other Offenses                       7489856  5427009  87574893070586112   \n",
       "Arson                                     107986    56272   1134680954871380   \n",
       "Burglary Non-Residential                  384311   234652   4661050487103261   \n",
       "Burglary Residential                     1592026  1258261  18898390956591816   \n",
       "DRIVING UNDER THE INFLUENCE               958760   521517  10607500865159892   \n",
       "Disorderly Conduct                        615949   534563   8001582848091898   \n",
       "Embezzlement                               72709    63739    933473890410403   \n",
       "Forgery and Counterfeiting                 75313    68042    967963020631661   \n",
       "Fraud                                    1933417  1607243  22841504114336912   \n",
       "Gambling Violations                        19476    13867    182279516816424   \n",
       "Homicide - Criminal                        68804    42738    687545668168449   \n",
       "Homicide - Gross Negligence                  145      119      2415045495895   \n",
       "Homicide - Justifiable                       690      396      8026891687720   \n",
       "Liquor Law Violations                      57959    84581   1088307705449985   \n",
       "Motor Vehicle Theft                       820430   566097   9264761930156488   \n",
       "Narcotic / Drug Law Violations           2765018  2136959  27465407770047272   \n",
       "Offenses Against Family and Children       36274    23371    359534961035967   \n",
       "Other Assaults                           4773176  3731149  55411896817026696   \n",
       "Other Sex Offenses (Not Commercialized)   269497   212336   3056255097959024   \n",
       "Prostitution and Commercialized Vice      252720   210853   2577237258492259   \n",
       "Public Drunkenness                         59070    54277    923452241288180   \n",
       "Rape                                      224074   150241   2366184335190632   \n",
       "Receiving Stolen Property                  13682    10337    154988315727682   \n",
       "Recovered Stolen Motor Vehicle           1755108  1195804  18937836418349584   \n",
       "Robbery Firearm                           744020   513519   8059025845208957   \n",
       "Robbery No Firearm                        883832   676082  10303807254858280   \n",
       "Theft from Vehicle                       2719659  2090355  34092729740460792   \n",
       "Thefts                                   3892977  3620667  51231694952880920   \n",
       "Vagrancy/Loitering                         76248    98038   1355043297659593   \n",
       "Vandalism/Criminal Mischief              3312314  2511845  40082207827718864   \n",
       "Weapon Violations                         375373   248638   3802066755282949   \n",
       "\n",
       "                                          UCR_General  Police_Districts  \\\n",
       "Text_General_Code                                                         \n",
       "Aggravated Assault Firearm               1.106440e+07          377528.0   \n",
       "Aggravated Assault No Firearm            2.736840e+07          866654.0   \n",
       "All Other Offenses                       1.132238e+09         5334638.0   \n",
       "Arson                                    5.078700e+06           74862.0   \n",
       "Burglary Non-Residential                 1.159100e+07          271315.0   \n",
       "Burglary Residential                     4.698950e+07         1124212.0   \n",
       "DRIVING UNDER THE INFLUENCE              1.107750e+08          668869.0   \n",
       "Disorderly Conduct                       9.551520e+07          441743.0   \n",
       "Embezzlement                             5.570400e+06           44295.0   \n",
       "Forgery and Counterfeiting               4.816000e+06           53388.0   \n",
       "Fraud                                    1.249105e+08         1312389.0   \n",
       "Gambling Violations                      1.723300e+06           13042.0   \n",
       "Homicide - Criminal                      3.419000e+05           47375.0   \n",
       "Homicide - Gross Negligence              1.200000e+03             111.0   \n",
       "Homicide - Justifiable                   4.000000e+03             488.0   \n",
       "Liquor Law Violations                    1.191080e+07           43809.0   \n",
       "Motor Vehicle Theft                      3.226580e+07          568977.0   \n",
       "Narcotic / Drug Law Violations           2.458782e+08         1926928.0   \n",
       "Offenses Against Family and Children     3.576000e+06           24346.0   \n",
       "Other Assaults                           2.204184e+08         3345879.0   \n",
       "Other Sex Offenses (Not Commercialized)  2.584000e+07          188249.0   \n",
       "Prostitution and Commercialized Vice     2.050400e+07          181775.0   \n",
       "Public Drunkenness                       1.055930e+07           43728.0   \n",
       "Rape                                     2.352600e+06          155040.0   \n",
       "Receiving Stolen Property                1.002300e+06            9541.0   \n",
       "Recovered Stolen Motor Vehicle           6.593020e+07         1214458.0   \n",
       "Robbery Firearm                          1.202430e+07          515315.0   \n",
       "Robbery No Firearm                       1.537260e+07          620079.0   \n",
       "Theft from Vehicle                       1.017234e+08         1901091.0   \n",
       "Thefts                                   1.528284e+08         2739147.0   \n",
       "Vagrancy/Loitering                       1.685000e+07           58815.0   \n",
       "Vandalism/Criminal Mischief              2.790690e+08         2326274.0   \n",
       "Weapon Violations                        2.835900e+07          256065.0   \n",
       "\n",
       "                                                  Lon           Lat  events  \n",
       "Text_General_Code                                                            \n",
       "Aggravated Assault Firearm              -2.079029e+06  1.106177e+06   27661  \n",
       "Aggravated Assault No Firearm           -5.142032e+06  2.736296e+06   68421  \n",
       "All Other Offenses                      -3.272918e+07  1.741319e+07  435476  \n",
       "Arson                                   -4.240662e+05  2.257004e+05    5643  \n",
       "Burglary Non-Residential                -1.741861e+06  9.272190e+05   23182  \n",
       "Burglary Residential                    -7.062464e+06  3.758964e+06   93979  \n",
       "DRIVING UNDER THE INFLUENCE             -3.964394e+06  2.109399e+06   52750  \n",
       "Disorderly Conduct                      -2.991057e+06  1.591053e+06   39798  \n",
       "Embezzlement                            -3.487768e+05  1.856409e+05    4642  \n",
       "Forgery and Counterfeiting              -3.619215e+05  1.926030e+05    4816  \n",
       "Fraud                                   -8.533233e+06  4.542084e+06  113555  \n",
       "Gambling Violations                     -6.817533e+04  3.626832e+04     907  \n",
       "Homicide - Criminal                     -2.569803e+05  1.367253e+05    3419  \n",
       "Homicide - Gross Negligence             -9.017214e+02  4.799704e+02      12  \n",
       "Homicide - Justifiable                  -3.006321e+03  1.599201e+03      40  \n",
       "Liquor Law Violations                   -4.066589e+05  2.165258e+05    5414  \n",
       "Motor Vehicle Theft                     -3.463652e+06  1.843604e+06   46094  \n",
       "Narcotic / Drug Law Violations          -1.026636e+07  5.462520e+06  136599  \n",
       "Offenses Against Family and Children    -1.343673e+05  7.151996e+04    1788  \n",
       "Other Assaults                          -2.070464e+07  1.102027e+07  275523  \n",
       "Other Sex Offenses (Not Commercialized) -1.142214e+06  6.079567e+05   15200  \n",
       "Prostitution and Commercialized Vice    -9.629443e+05  5.124531e+05   12815  \n",
       "Public Drunkenness                      -3.450702e+05  1.835236e+05    4591  \n",
       "Rape                                    -8.840248e+05  4.704575e+05   11763  \n",
       "Receiving Stolen Property               -5.795073e+04  3.082387e+04     771  \n",
       "Recovered Stolen Motor Vehicle          -7.077662e+06  3.767031e+06   94186  \n",
       "Robbery Firearm                         -3.012222e+06  1.603016e+06   40081  \n",
       "Robbery No Firearm                      -3.850726e+06  2.049231e+06   51242  \n",
       "Theft from Vehicle                      -1.273987e+07  6.780521e+06  169539  \n",
       "Thefts                                  -1.914046e+07  1.018561e+07  254714  \n",
       "Vagrancy/Loitering                      -5.065888e+05  2.693420e+05    6740  \n",
       "Vandalism/Criminal Mischief             -1.497946e+07  7.972466e+06  199335  \n",
       "Weapon Violations                       -1.420976e+06  7.560975e+05   18906  "
      ],
      "text/html": "<div>\n<style scoped>\n    .dataframe tbody tr th:only-of-type {\n        vertical-align: middle;\n    }\n\n    .dataframe tbody tr th {\n        vertical-align: top;\n    }\n\n    .dataframe thead th {\n        text-align: right;\n    }\n</style>\n<table border=\"1\" class=\"dataframe\">\n  <thead>\n    <tr style=\"text-align: right;\">\n      <th></th>\n      <th>Dc_Dist</th>\n      <th>Hour</th>\n      <th>Dc_Key</th>\n      <th>UCR_General</th>\n      <th>Police_Districts</th>\n      <th>Lon</th>\n      <th>Lat</th>\n      <th>events</th>\n    </tr>\n    <tr>\n      <th>Text_General_Code</th>\n      <th></th>\n      <th></th>\n      <th></th>\n      <th></th>\n      <th></th>\n      <th></th>\n      <th></th>\n      <th></th>\n    </tr>\n  </thead>\n  <tbody>\n    <tr>\n      <th>Aggravated Assault Firearm</th>\n      <td>546999</td>\n      <td>363643</td>\n      <td>5562437653118799</td>\n      <td>1.106440e+07</td>\n      <td>377528.0</td>\n      <td>-2.079029e+06</td>\n      <td>1.106177e+06</td>\n      <td>27661</td>\n    </tr>\n    <tr>\n      <th>Aggravated Assault No Firearm</th>\n      <td>1239167</td>\n      <td>882606</td>\n      <td>13759411907649408</td>\n      <td>2.736840e+07</td>\n      <td>866654.0</td>\n      <td>-5.142032e+06</td>\n      <td>2.736296e+06</td>\n      <td>68421</td>\n    </tr>\n    <tr>\n      <th>All Other Offenses</th>\n      <td>7489856</td>\n      <td>5427009</td>\n      <td>87574893070586112</td>\n      <td>1.132238e+09</td>\n      <td>5334638.0</td>\n      <td>-3.272918e+07</td>\n      <td>1.741319e+07</td>\n      <td>435476</td>\n    </tr>\n    <tr>\n      <th>Arson</th>\n      <td>107986</td>\n      <td>56272</td>\n      <td>1134680954871380</td>\n      <td>5.078700e+06</td>\n      <td>74862.0</td>\n      <td>-4.240662e+05</td>\n      <td>2.257004e+05</td>\n      <td>5643</td>\n    </tr>\n    <tr>\n      <th>Burglary Non-Residential</th>\n      <td>384311</td>\n      <td>234652</td>\n      <td>4661050487103261</td>\n      <td>1.159100e+07</td>\n      <td>271315.0</td>\n      <td>-1.741861e+06</td>\n      <td>9.272190e+05</td>\n      <td>23182</td>\n    </tr>\n    <tr>\n      <th>Burglary Residential</th>\n      <td>1592026</td>\n      <td>1258261</td>\n      <td>18898390956591816</td>\n      <td>4.698950e+07</td>\n      <td>1124212.0</td>\n      <td>-7.062464e+06</td>\n      <td>3.758964e+06</td>\n      <td>93979</td>\n    </tr>\n    <tr>\n      <th>DRIVING UNDER THE INFLUENCE</th>\n      <td>958760</td>\n      <td>521517</td>\n      <td>10607500865159892</td>\n      <td>1.107750e+08</td>\n      <td>668869.0</td>\n      <td>-3.964394e+06</td>\n      <td>2.109399e+06</td>\n      <td>52750</td>\n    </tr>\n    <tr>\n      <th>Disorderly Conduct</th>\n      <td>615949</td>\n      <td>534563</td>\n      <td>8001582848091898</td>\n      <td>9.551520e+07</td>\n      <td>441743.0</td>\n      <td>-2.991057e+06</td>\n      <td>1.591053e+06</td>\n      <td>39798</td>\n    </tr>\n    <tr>\n      <th>Embezzlement</th>\n      <td>72709</td>\n      <td>63739</td>\n      <td>933473890410403</td>\n      <td>5.570400e+06</td>\n      <td>44295.0</td>\n      <td>-3.487768e+05</td>\n      <td>1.856409e+05</td>\n      <td>4642</td>\n    </tr>\n    <tr>\n      <th>Forgery and Counterfeiting</th>\n      <td>75313</td>\n      <td>68042</td>\n      <td>967963020631661</td>\n      <td>4.816000e+06</td>\n      <td>53388.0</td>\n      <td>-3.619215e+05</td>\n      <td>1.926030e+05</td>\n      <td>4816</td>\n    </tr>\n    <tr>\n      <th>Fraud</th>\n      <td>1933417</td>\n      <td>1607243</td>\n      <td>22841504114336912</td>\n      <td>1.249105e+08</td>\n      <td>1312389.0</td>\n      <td>-8.533233e+06</td>\n      <td>4.542084e+06</td>\n      <td>113555</td>\n    </tr>\n    <tr>\n      <th>Gambling Violations</th>\n      <td>19476</td>\n      <td>13867</td>\n      <td>182279516816424</td>\n      <td>1.723300e+06</td>\n      <td>13042.0</td>\n      <td>-6.817533e+04</td>\n      <td>3.626832e+04</td>\n      <td>907</td>\n    </tr>\n    <tr>\n      <th>Homicide - Criminal</th>\n      <td>68804</td>\n      <td>42738</td>\n      <td>687545668168449</td>\n      <td>3.419000e+05</td>\n      <td>47375.0</td>\n      <td>-2.569803e+05</td>\n      <td>1.367253e+05</td>\n      <td>3419</td>\n    </tr>\n    <tr>\n      <th>Homicide - Gross Negligence</th>\n      <td>145</td>\n      <td>119</td>\n      <td>2415045495895</td>\n      <td>1.200000e+03</td>\n      <td>111.0</td>\n      <td>-9.017214e+02</td>\n      <td>4.799704e+02</td>\n      <td>12</td>\n    </tr>\n    <tr>\n      <th>Homicide - Justifiable</th>\n      <td>690</td>\n      <td>396</td>\n      <td>8026891687720</td>\n      <td>4.000000e+03</td>\n      <td>488.0</td>\n      <td>-3.006321e+03</td>\n      <td>1.599201e+03</td>\n      <td>40</td>\n    </tr>\n    <tr>\n      <th>Liquor Law Violations</th>\n      <td>57959</td>\n      <td>84581</td>\n      <td>1088307705449985</td>\n      <td>1.191080e+07</td>\n      <td>43809.0</td>\n      <td>-4.066589e+05</td>\n      <td>2.165258e+05</td>\n      <td>5414</td>\n    </tr>\n    <tr>\n      <th>Motor Vehicle Theft</th>\n      <td>820430</td>\n      <td>566097</td>\n      <td>9264761930156488</td>\n      <td>3.226580e+07</td>\n      <td>568977.0</td>\n      <td>-3.463652e+06</td>\n      <td>1.843604e+06</td>\n      <td>46094</td>\n    </tr>\n    <tr>\n      <th>Narcotic / Drug Law Violations</th>\n      <td>2765018</td>\n      <td>2136959</td>\n      <td>27465407770047272</td>\n      <td>2.458782e+08</td>\n      <td>1926928.0</td>\n      <td>-1.026636e+07</td>\n      <td>5.462520e+06</td>\n      <td>136599</td>\n    </tr>\n    <tr>\n      <th>Offenses Against Family and Children</th>\n      <td>36274</td>\n      <td>23371</td>\n      <td>359534961035967</td>\n      <td>3.576000e+06</td>\n      <td>24346.0</td>\n      <td>-1.343673e+05</td>\n      <td>7.151996e+04</td>\n      <td>1788</td>\n    </tr>\n    <tr>\n      <th>Other Assaults</th>\n      <td>4773176</td>\n      <td>3731149</td>\n      <td>55411896817026696</td>\n      <td>2.204184e+08</td>\n      <td>3345879.0</td>\n      <td>-2.070464e+07</td>\n      <td>1.102027e+07</td>\n      <td>275523</td>\n    </tr>\n    <tr>\n      <th>Other Sex Offenses (Not Commercialized)</th>\n      <td>269497</td>\n      <td>212336</td>\n      <td>3056255097959024</td>\n      <td>2.584000e+07</td>\n      <td>188249.0</td>\n      <td>-1.142214e+06</td>\n      <td>6.079567e+05</td>\n      <td>15200</td>\n    </tr>\n    <tr>\n      <th>Prostitution and Commercialized Vice</th>\n      <td>252720</td>\n      <td>210853</td>\n      <td>2577237258492259</td>\n      <td>2.050400e+07</td>\n      <td>181775.0</td>\n      <td>-9.629443e+05</td>\n      <td>5.124531e+05</td>\n      <td>12815</td>\n    </tr>\n    <tr>\n      <th>Public Drunkenness</th>\n      <td>59070</td>\n      <td>54277</td>\n      <td>923452241288180</td>\n      <td>1.055930e+07</td>\n      <td>43728.0</td>\n      <td>-3.450702e+05</td>\n      <td>1.835236e+05</td>\n      <td>4591</td>\n    </tr>\n    <tr>\n      <th>Rape</th>\n      <td>224074</td>\n      <td>150241</td>\n      <td>2366184335190632</td>\n      <td>2.352600e+06</td>\n      <td>155040.0</td>\n      <td>-8.840248e+05</td>\n      <td>4.704575e+05</td>\n      <td>11763</td>\n    </tr>\n    <tr>\n      <th>Receiving Stolen Property</th>\n      <td>13682</td>\n      <td>10337</td>\n      <td>154988315727682</td>\n      <td>1.002300e+06</td>\n      <td>9541.0</td>\n      <td>-5.795073e+04</td>\n      <td>3.082387e+04</td>\n      <td>771</td>\n    </tr>\n    <tr>\n      <th>Recovered Stolen Motor Vehicle</th>\n      <td>1755108</td>\n      <td>1195804</td>\n      <td>18937836418349584</td>\n      <td>6.593020e+07</td>\n      <td>1214458.0</td>\n      <td>-7.077662e+06</td>\n      <td>3.767031e+06</td>\n      <td>94186</td>\n    </tr>\n    <tr>\n      <th>Robbery Firearm</th>\n      <td>744020</td>\n      <td>513519</td>\n      <td>8059025845208957</td>\n      <td>1.202430e+07</td>\n      <td>515315.0</td>\n      <td>-3.012222e+06</td>\n      <td>1.603016e+06</td>\n      <td>40081</td>\n    </tr>\n    <tr>\n      <th>Robbery No Firearm</th>\n      <td>883832</td>\n      <td>676082</td>\n      <td>10303807254858280</td>\n      <td>1.537260e+07</td>\n      <td>620079.0</td>\n      <td>-3.850726e+06</td>\n      <td>2.049231e+06</td>\n      <td>51242</td>\n    </tr>\n    <tr>\n      <th>Theft from Vehicle</th>\n      <td>2719659</td>\n      <td>2090355</td>\n      <td>34092729740460792</td>\n      <td>1.017234e+08</td>\n      <td>1901091.0</td>\n      <td>-1.273987e+07</td>\n      <td>6.780521e+06</td>\n      <td>169539</td>\n    </tr>\n    <tr>\n      <th>Thefts</th>\n      <td>3892977</td>\n      <td>3620667</td>\n      <td>51231694952880920</td>\n      <td>1.528284e+08</td>\n      <td>2739147.0</td>\n      <td>-1.914046e+07</td>\n      <td>1.018561e+07</td>\n      <td>254714</td>\n    </tr>\n    <tr>\n      <th>Vagrancy/Loitering</th>\n      <td>76248</td>\n      <td>98038</td>\n      <td>1355043297659593</td>\n      <td>1.685000e+07</td>\n      <td>58815.0</td>\n      <td>-5.065888e+05</td>\n      <td>2.693420e+05</td>\n      <td>6740</td>\n    </tr>\n    <tr>\n      <th>Vandalism/Criminal Mischief</th>\n      <td>3312314</td>\n      <td>2511845</td>\n      <td>40082207827718864</td>\n      <td>2.790690e+08</td>\n      <td>2326274.0</td>\n      <td>-1.497946e+07</td>\n      <td>7.972466e+06</td>\n      <td>199335</td>\n    </tr>\n    <tr>\n      <th>Weapon Violations</th>\n      <td>375373</td>\n      <td>248638</td>\n      <td>3802066755282949</td>\n      <td>2.835900e+07</td>\n      <td>256065.0</td>\n      <td>-1.420976e+06</td>\n      <td>7.560975e+05</td>\n      <td>18906</td>\n    </tr>\n  </tbody>\n</table>\n</div>"
     },
     "metadata": {},
     "execution_count": 42
    }
   ],
   "source": [
    "groupTypeOfCrime = crimeData.groupby('Text_General_Code').sum()\n",
    "groupTypeOfCrime"
   ]
  },
  {
   "cell_type": "code",
   "execution_count": 43,
   "metadata": {},
   "outputs": [],
   "source": [
    "Lon, Lat = crimeData['Lon'].to_numpy(), crimeData['Lat'].to_numpy()"
   ]
  }
 ],
 "metadata": {
  "kernelspec": {
   "display_name": "Python 3",
   "language": "python",
   "name": "python3"
  },
  "language_info": {
   "codemirror_mode": {
    "name": "ipython",
    "version": 3
   },
   "file_extension": ".py",
   "mimetype": "text/x-python",
   "name": "python",
   "nbconvert_exporter": "python",
   "pygments_lexer": "ipython3",
   "version": "3.8.3-final"
  }
 },
 "nbformat": 4,
 "nbformat_minor": 2
}